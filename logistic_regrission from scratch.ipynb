{
  "nbformat": 4,
  "nbformat_minor": 0,
  "metadata": {
    "colab": {
      "provenance": []
    },
    "kernelspec": {
      "name": "python3",
      "display_name": "Python 3"
    },
    "language_info": {
      "name": "python"
    }
  },
  "cells": [
    {
      "cell_type": "code",
      "source": [
        "import pandas as pd\n",
        "import numpy as np"
      ],
      "metadata": {
        "id": "Z8YmcVfZWnXc"
      },
      "execution_count": 127,
      "outputs": []
    },
    {
      "cell_type": "markdown",
      "source": [
        "# load the dataset"
      ],
      "metadata": {
        "id": "6uVVvl_Oxhb_"
      }
    },
    {
      "cell_type": "code",
      "source": [
        "\n",
        "\n",
        "data = pd.read_csv('/content/heart.csv')\n",
        "\n",
        "\n"
      ],
      "metadata": {
        "id": "xZo4o8UXWJes"
      },
      "execution_count": 128,
      "outputs": []
    },
    {
      "cell_type": "code",
      "source": [
        "print(data.head(30))\n",
        "\n"
      ],
      "metadata": {
        "colab": {
          "base_uri": "https://localhost:8080/"
        },
        "id": "_akzWxfhWJbc",
        "outputId": "87ace374-ff2b-4d1f-bf02-44a2e09a53cd"
      },
      "execution_count": 129,
      "outputs": [
        {
          "output_type": "stream",
          "name": "stdout",
          "text": [
            "    age  sex  cp  trestbps  chol  fbs  restecg  thalach  exang  oldpeak  \\\n",
            "0    63    1   3       145   233    1        0      150      0      2.3   \n",
            "1    37    1   2       130   250    0        1      187      0      3.5   \n",
            "2    41    0   1       130   204    0        0      172      0      1.4   \n",
            "3    56    1   1       120   236    0        1      178      0      0.8   \n",
            "4    57    0   0       120   354    0        1      163      1      0.6   \n",
            "5    57    1   0       140   192    0        1      148      0      0.4   \n",
            "6    56    0   1       140   294    0        0      153      0      1.3   \n",
            "7    44    1   1       120   263    0        1      173      0      0.0   \n",
            "8    52    1   2       172   199    1        1      162      0      0.5   \n",
            "9    57    1   2       150   168    0        1      174      0      1.6   \n",
            "10   54    1   0       140   239    0        1      160      0      1.2   \n",
            "11   48    0   2       130   275    0        1      139      0      0.2   \n",
            "12   49    1   1       130   266    0        1      171      0      0.6   \n",
            "13   64    1   3       110   211    0        0      144      1      1.8   \n",
            "14   58    0   3       150   283    1        0      162      0      1.0   \n",
            "15   50    0   2       120   219    0        1      158      0      1.6   \n",
            "16   58    0   2       120   340    0        1      172      0      0.0   \n",
            "17   66    0   3       150   226    0        1      114      0      2.6   \n",
            "18   43    1   0       150   247    0        1      171      0      1.5   \n",
            "19   69    0   3       140   239    0        1      151      0      1.8   \n",
            "20   59    1   0       135   234    0        1      161      0      0.5   \n",
            "21   44    1   2       130   233    0        1      179      1      0.4   \n",
            "22   42    1   0       140   226    0        1      178      0      0.0   \n",
            "23   61    1   2       150   243    1        1      137      1      1.0   \n",
            "24   40    1   3       140   199    0        1      178      1      1.4   \n",
            "25   71    0   1       160   302    0        1      162      0      0.4   \n",
            "26   59    1   2       150   212    1        1      157      0      1.6   \n",
            "27   51    1   2       110   175    0        1      123      0      0.6   \n",
            "28   65    0   2       140   417    1        0      157      0      0.8   \n",
            "29   53    1   2       130   197    1        0      152      0      1.2   \n",
            "\n",
            "    slope  ca  thal  target  \n",
            "0       0   0     1       1  \n",
            "1       0   0     2       1  \n",
            "2       2   0     2       1  \n",
            "3       2   0     2       1  \n",
            "4       2   0     2       1  \n",
            "5       1   0     1       1  \n",
            "6       1   0     2       1  \n",
            "7       2   0     3       1  \n",
            "8       2   0     3       1  \n",
            "9       2   0     2       1  \n",
            "10      2   0     2       1  \n",
            "11      2   0     2       1  \n",
            "12      2   0     2       1  \n",
            "13      1   0     2       1  \n",
            "14      2   0     2       1  \n",
            "15      1   0     2       1  \n",
            "16      2   0     2       1  \n",
            "17      0   0     2       1  \n",
            "18      2   0     2       1  \n",
            "19      2   2     2       1  \n",
            "20      1   0     3       1  \n",
            "21      2   0     2       1  \n",
            "22      2   0     2       1  \n",
            "23      1   0     2       1  \n",
            "24      2   0     3       1  \n",
            "25      2   2     2       1  \n",
            "26      2   0     2       1  \n",
            "27      2   0     2       1  \n",
            "28      2   1     2       1  \n",
            "29      0   0     2       1  \n"
          ]
        }
      ]
    },
    {
      "cell_type": "code",
      "source": [
        "\n",
        "shuffled_data = data.sample(frac=1).reset_index(drop=True)\n"
      ],
      "metadata": {
        "id": "V5mceVGPBHep"
      },
      "execution_count": 197,
      "outputs": []
    },
    {
      "cell_type": "code",
      "source": [],
      "metadata": {
        "id": "3B9CWwOQBHTe"
      },
      "execution_count": 197,
      "outputs": []
    },
    {
      "cell_type": "code",
      "source": [
        "target_categories = data.iloc[:, -1].value_counts()"
      ],
      "metadata": {
        "id": "VXMrXycRigI0"
      },
      "execution_count": 198,
      "outputs": []
    },
    {
      "cell_type": "code",
      "source": [
        "print(\"Number of categories in the target variable\")\n",
        "print(len(target_categories))"
      ],
      "metadata": {
        "colab": {
          "base_uri": "https://localhost:8080/"
        },
        "id": "UdKulcXXijSG",
        "outputId": "cb6b76d7-44f4-453b-a663-bdc037fbb87e"
      },
      "execution_count": 199,
      "outputs": [
        {
          "output_type": "stream",
          "name": "stdout",
          "text": [
            "Number of categories in the target variable\n",
            "2\n"
          ]
        }
      ]
    },
    {
      "cell_type": "code",
      "source": [
        "print(\"Number of categories in the target variable\")\n",
        "print(len(target_categories))\n"
      ],
      "metadata": {
        "colab": {
          "base_uri": "https://localhost:8080/"
        },
        "id": "yuNPAFSXioZW",
        "outputId": "a75284cc-9d3e-4373-def4-d1852ec9a1f0"
      },
      "execution_count": 200,
      "outputs": [
        {
          "output_type": "stream",
          "name": "stdout",
          "text": [
            "Number of categories in the target variable\n",
            "2\n"
          ]
        }
      ]
    },
    {
      "cell_type": "markdown",
      "source": [
        "# showing some statistics of teh dataset"
      ],
      "metadata": {
        "id": "BFbKzi43xttO"
      }
    },
    {
      "cell_type": "code",
      "source": [
        "print(data.describe())\n",
        "\n"
      ],
      "metadata": {
        "colab": {
          "base_uri": "https://localhost:8080/"
        },
        "id": "BpHhYxeQWJYn",
        "outputId": "b6cf8348-2bcb-4a76-dc03-36b031593f38"
      },
      "execution_count": 201,
      "outputs": [
        {
          "output_type": "stream",
          "name": "stdout",
          "text": [
            "                age           sex            cp      trestbps        chol  \\\n",
            "count  3.020000e+02  3.020000e+02  3.020000e+02  3.020000e+02  302.000000   \n",
            "mean  -2.352791e-17  4.705581e-17 -7.058372e-17 -1.176395e-17    0.000000   \n",
            "std    1.001660e+00  1.001660e+00  1.001660e+00  1.001660e+00    1.001660   \n",
            "min   -2.814192e+00 -1.464866e+00 -9.352080e-01 -2.144521e+00   -2.332210   \n",
            "25%   -7.107878e-01 -1.464866e+00 -9.352080e-01 -6.617119e-01   -0.687083   \n",
            "50%    1.195033e-01  6.826561e-01  3.535150e-02 -9.140084e-02   -0.116127   \n",
            "75%    7.283833e-01  6.826561e-01  1.005911e+00  4.789102e-01    0.546763   \n",
            "max    2.499671e+00  6.826561e-01  1.976470e+00  3.900776e+00    6.145034   \n",
            "\n",
            "                fbs       restecg     thalach         exang       oldpeak  \\\n",
            "count  3.020000e+02  3.020000e+02  302.000000  3.020000e+02  3.020000e+02   \n",
            "mean   2.352791e-17 -1.176395e-17    0.000000 -7.058372e-17 -4.705581e-17   \n",
            "std    1.001660e+00  1.001660e+00    1.001660  1.001660e+00  1.001660e+00   \n",
            "min   -4.184463e-01 -1.002541e+00   -3.436149 -6.983443e-01 -8.995441e-01   \n",
            "25%   -4.184463e-01 -1.002541e+00   -0.713716 -6.983443e-01 -8.995441e-01   \n",
            "50%   -4.184463e-01  9.016566e-01    0.128160 -6.983443e-01 -2.096081e-01   \n",
            "75%   -4.184463e-01  9.016566e-01    0.718568  1.431958e+00  4.803280e-01   \n",
            "max    2.389793e+00  2.805854e+00    2.292987  1.431958e+00  4.447460e+00   \n",
            "\n",
            "              slope          ca          thal        target  \n",
            "count  3.020000e+02  302.000000  3.020000e+02  3.020000e+02  \n",
            "mean   7.058372e-17    0.000000 -9.411162e-17 -9.411162e-17  \n",
            "std    1.001660e+00    1.001660  1.001660e+00  1.001660e+00  \n",
            "min   -2.271182e+00   -0.714911 -3.781916e+00 -1.090140e+00  \n",
            "25%   -6.458337e-01   -0.714911 -5.139943e-01 -1.090140e+00  \n",
            "50%   -6.458337e-01   -0.714911 -5.139943e-01  9.173131e-01  \n",
            "75%    9.795144e-01    0.280034  1.119967e+00  9.173131e-01  \n",
            "max    9.795144e-01    3.264871  1.119967e+00  9.173131e-01  \n"
          ]
        }
      ]
    },
    {
      "cell_type": "markdown",
      "source": [
        "# Checking for duplicates"
      ],
      "metadata": {
        "id": "6z5G0yz99M2j"
      }
    },
    {
      "cell_type": "code",
      "source": [
        "duplicate = data[data.duplicated()]\n",
        "duplicate\n",
        "\n"
      ],
      "metadata": {
        "colab": {
          "base_uri": "https://localhost:8080/",
          "height": 53
        },
        "id": "xwYw6Q9K9L8_",
        "outputId": "e44e25db-3295-4261-df7a-6579d4271c3b"
      },
      "execution_count": 202,
      "outputs": [
        {
          "output_type": "execute_result",
          "data": {
            "text/plain": [
              "Empty DataFrame\n",
              "Columns: [age, sex, cp, trestbps, chol, fbs, restecg, thalach, exang, oldpeak, slope, ca, thal, target]\n",
              "Index: []"
            ],
            "text/html": [
              "\n",
              "  <div id=\"df-440a8c23-d808-498f-81a6-df82155f05bd\" class=\"colab-df-container\">\n",
              "    <div>\n",
              "<style scoped>\n",
              "    .dataframe tbody tr th:only-of-type {\n",
              "        vertical-align: middle;\n",
              "    }\n",
              "\n",
              "    .dataframe tbody tr th {\n",
              "        vertical-align: top;\n",
              "    }\n",
              "\n",
              "    .dataframe thead th {\n",
              "        text-align: right;\n",
              "    }\n",
              "</style>\n",
              "<table border=\"1\" class=\"dataframe\">\n",
              "  <thead>\n",
              "    <tr style=\"text-align: right;\">\n",
              "      <th></th>\n",
              "      <th>age</th>\n",
              "      <th>sex</th>\n",
              "      <th>cp</th>\n",
              "      <th>trestbps</th>\n",
              "      <th>chol</th>\n",
              "      <th>fbs</th>\n",
              "      <th>restecg</th>\n",
              "      <th>thalach</th>\n",
              "      <th>exang</th>\n",
              "      <th>oldpeak</th>\n",
              "      <th>slope</th>\n",
              "      <th>ca</th>\n",
              "      <th>thal</th>\n",
              "      <th>target</th>\n",
              "    </tr>\n",
              "  </thead>\n",
              "  <tbody>\n",
              "  </tbody>\n",
              "</table>\n",
              "</div>\n",
              "    <div class=\"colab-df-buttons\">\n",
              "\n",
              "  <div class=\"colab-df-container\">\n",
              "    <button class=\"colab-df-convert\" onclick=\"convertToInteractive('df-440a8c23-d808-498f-81a6-df82155f05bd')\"\n",
              "            title=\"Convert this dataframe to an interactive table.\"\n",
              "            style=\"display:none;\">\n",
              "\n",
              "  <svg xmlns=\"http://www.w3.org/2000/svg\" height=\"24px\" viewBox=\"0 -960 960 960\">\n",
              "    <path d=\"M120-120v-720h720v720H120Zm60-500h600v-160H180v160Zm220 220h160v-160H400v160Zm0 220h160v-160H400v160ZM180-400h160v-160H180v160Zm440 0h160v-160H620v160ZM180-180h160v-160H180v160Zm440 0h160v-160H620v160Z\"/>\n",
              "  </svg>\n",
              "    </button>\n",
              "\n",
              "  <style>\n",
              "    .colab-df-container {\n",
              "      display:flex;\n",
              "      gap: 12px;\n",
              "    }\n",
              "\n",
              "    .colab-df-convert {\n",
              "      background-color: #E8F0FE;\n",
              "      border: none;\n",
              "      border-radius: 50%;\n",
              "      cursor: pointer;\n",
              "      display: none;\n",
              "      fill: #1967D2;\n",
              "      height: 32px;\n",
              "      padding: 0 0 0 0;\n",
              "      width: 32px;\n",
              "    }\n",
              "\n",
              "    .colab-df-convert:hover {\n",
              "      background-color: #E2EBFA;\n",
              "      box-shadow: 0px 1px 2px rgba(60, 64, 67, 0.3), 0px 1px 3px 1px rgba(60, 64, 67, 0.15);\n",
              "      fill: #174EA6;\n",
              "    }\n",
              "\n",
              "    .colab-df-buttons div {\n",
              "      margin-bottom: 4px;\n",
              "    }\n",
              "\n",
              "    [theme=dark] .colab-df-convert {\n",
              "      background-color: #3B4455;\n",
              "      fill: #D2E3FC;\n",
              "    }\n",
              "\n",
              "    [theme=dark] .colab-df-convert:hover {\n",
              "      background-color: #434B5C;\n",
              "      box-shadow: 0px 1px 3px 1px rgba(0, 0, 0, 0.15);\n",
              "      filter: drop-shadow(0px 1px 2px rgba(0, 0, 0, 0.3));\n",
              "      fill: #FFFFFF;\n",
              "    }\n",
              "  </style>\n",
              "\n",
              "    <script>\n",
              "      const buttonEl =\n",
              "        document.querySelector('#df-440a8c23-d808-498f-81a6-df82155f05bd button.colab-df-convert');\n",
              "      buttonEl.style.display =\n",
              "        google.colab.kernel.accessAllowed ? 'block' : 'none';\n",
              "\n",
              "      async function convertToInteractive(key) {\n",
              "        const element = document.querySelector('#df-440a8c23-d808-498f-81a6-df82155f05bd');\n",
              "        const dataTable =\n",
              "          await google.colab.kernel.invokeFunction('convertToInteractive',\n",
              "                                                    [key], {});\n",
              "        if (!dataTable) return;\n",
              "\n",
              "        const docLinkHtml = 'Like what you see? Visit the ' +\n",
              "          '<a target=\"_blank\" href=https://colab.research.google.com/notebooks/data_table.ipynb>data table notebook</a>'\n",
              "          + ' to learn more about interactive tables.';\n",
              "        element.innerHTML = '';\n",
              "        dataTable['output_type'] = 'display_data';\n",
              "        await google.colab.output.renderOutput(dataTable, element);\n",
              "        const docLink = document.createElement('div');\n",
              "        docLink.innerHTML = docLinkHtml;\n",
              "        element.appendChild(docLink);\n",
              "      }\n",
              "    </script>\n",
              "  </div>\n",
              "\n",
              "    </div>\n",
              "  </div>\n"
            ],
            "application/vnd.google.colaboratory.intrinsic+json": {
              "type": "dataframe",
              "variable_name": "duplicate",
              "summary": "{\n  \"name\": \"duplicate\",\n  \"rows\": 0,\n  \"fields\": [\n    {\n      \"column\": \"age\",\n      \"properties\": {\n        \"dtype\": \"number\",\n        \"std\": null,\n        \"min\": null,\n        \"max\": null,\n        \"num_unique_values\": 0,\n        \"samples\": [],\n        \"semantic_type\": \"\",\n        \"description\": \"\"\n      }\n    },\n    {\n      \"column\": \"sex\",\n      \"properties\": {\n        \"dtype\": \"number\",\n        \"std\": null,\n        \"min\": null,\n        \"max\": null,\n        \"num_unique_values\": 0,\n        \"samples\": [],\n        \"semantic_type\": \"\",\n        \"description\": \"\"\n      }\n    },\n    {\n      \"column\": \"cp\",\n      \"properties\": {\n        \"dtype\": \"number\",\n        \"std\": null,\n        \"min\": null,\n        \"max\": null,\n        \"num_unique_values\": 0,\n        \"samples\": [],\n        \"semantic_type\": \"\",\n        \"description\": \"\"\n      }\n    },\n    {\n      \"column\": \"trestbps\",\n      \"properties\": {\n        \"dtype\": \"number\",\n        \"std\": null,\n        \"min\": null,\n        \"max\": null,\n        \"num_unique_values\": 0,\n        \"samples\": [],\n        \"semantic_type\": \"\",\n        \"description\": \"\"\n      }\n    },\n    {\n      \"column\": \"chol\",\n      \"properties\": {\n        \"dtype\": \"number\",\n        \"std\": null,\n        \"min\": null,\n        \"max\": null,\n        \"num_unique_values\": 0,\n        \"samples\": [],\n        \"semantic_type\": \"\",\n        \"description\": \"\"\n      }\n    },\n    {\n      \"column\": \"fbs\",\n      \"properties\": {\n        \"dtype\": \"number\",\n        \"std\": null,\n        \"min\": null,\n        \"max\": null,\n        \"num_unique_values\": 0,\n        \"samples\": [],\n        \"semantic_type\": \"\",\n        \"description\": \"\"\n      }\n    },\n    {\n      \"column\": \"restecg\",\n      \"properties\": {\n        \"dtype\": \"number\",\n        \"std\": null,\n        \"min\": null,\n        \"max\": null,\n        \"num_unique_values\": 0,\n        \"samples\": [],\n        \"semantic_type\": \"\",\n        \"description\": \"\"\n      }\n    },\n    {\n      \"column\": \"thalach\",\n      \"properties\": {\n        \"dtype\": \"number\",\n        \"std\": null,\n        \"min\": null,\n        \"max\": null,\n        \"num_unique_values\": 0,\n        \"samples\": [],\n        \"semantic_type\": \"\",\n        \"description\": \"\"\n      }\n    },\n    {\n      \"column\": \"exang\",\n      \"properties\": {\n        \"dtype\": \"number\",\n        \"std\": null,\n        \"min\": null,\n        \"max\": null,\n        \"num_unique_values\": 0,\n        \"samples\": [],\n        \"semantic_type\": \"\",\n        \"description\": \"\"\n      }\n    },\n    {\n      \"column\": \"oldpeak\",\n      \"properties\": {\n        \"dtype\": \"number\",\n        \"std\": null,\n        \"min\": null,\n        \"max\": null,\n        \"num_unique_values\": 0,\n        \"samples\": [],\n        \"semantic_type\": \"\",\n        \"description\": \"\"\n      }\n    },\n    {\n      \"column\": \"slope\",\n      \"properties\": {\n        \"dtype\": \"number\",\n        \"std\": null,\n        \"min\": null,\n        \"max\": null,\n        \"num_unique_values\": 0,\n        \"samples\": [],\n        \"semantic_type\": \"\",\n        \"description\": \"\"\n      }\n    },\n    {\n      \"column\": \"ca\",\n      \"properties\": {\n        \"dtype\": \"number\",\n        \"std\": null,\n        \"min\": null,\n        \"max\": null,\n        \"num_unique_values\": 0,\n        \"samples\": [],\n        \"semantic_type\": \"\",\n        \"description\": \"\"\n      }\n    },\n    {\n      \"column\": \"thal\",\n      \"properties\": {\n        \"dtype\": \"number\",\n        \"std\": null,\n        \"min\": null,\n        \"max\": null,\n        \"num_unique_values\": 0,\n        \"samples\": [],\n        \"semantic_type\": \"\",\n        \"description\": \"\"\n      }\n    },\n    {\n      \"column\": \"target\",\n      \"properties\": {\n        \"dtype\": \"number\",\n        \"std\": null,\n        \"min\": null,\n        \"max\": null,\n        \"num_unique_values\": 0,\n        \"samples\": [],\n        \"semantic_type\": \"\",\n        \"description\": \"\"\n      }\n    }\n  ]\n}"
            }
          },
          "metadata": {},
          "execution_count": 202
        }
      ]
    },
    {
      "cell_type": "markdown",
      "source": [
        "# remove duplicates\n"
      ],
      "metadata": {
        "id": "f0HcXYP29mZp"
      }
    },
    {
      "cell_type": "code",
      "source": [
        "\n",
        "data.drop_duplicates(inplace=True)\n",
        "\n",
        "print(data)\n"
      ],
      "metadata": {
        "colab": {
          "base_uri": "https://localhost:8080/"
        },
        "id": "hcVoTU9X9VWh",
        "outputId": "b6a6cec3-811d-4cb1-e606-22812e2d30c2"
      },
      "execution_count": 203,
      "outputs": [
        {
          "output_type": "stream",
          "name": "stdout",
          "text": [
            "          age       sex        cp  trestbps      chol       fbs   restecg  \\\n",
            "0    0.949794  0.682656  1.976470  0.764066 -0.261285  2.389793 -1.002541   \n",
            "1   -1.928548  0.682656  1.005911 -0.091401  0.067741 -0.418446  0.901657   \n",
            "2   -1.485726 -1.464866  0.035352 -0.091401 -0.822564 -0.418446 -1.002541   \n",
            "3    0.174856  0.682656  0.035352 -0.661712 -0.203222 -0.418446  0.901657   \n",
            "4    0.285561 -1.464866 -0.935208 -0.661712  2.080602 -0.418446  0.901657   \n",
            "..        ...       ...       ...       ...       ...       ...       ...   \n",
            "298  0.285561 -1.464866 -0.935208  0.478910 -0.106449 -0.418446  0.901657   \n",
            "299 -1.042904  0.682656  1.976470 -1.232023  0.338703 -0.418446  0.901657   \n",
            "300  1.503322  0.682656 -0.935208  0.707035 -1.035462  2.389793  0.901657   \n",
            "301  0.285561  0.682656 -0.935208 -0.091401 -2.235438 -0.418446  0.901657   \n",
            "302  0.285561 -1.464866  0.035352 -0.091401 -0.203222 -0.418446 -1.002541   \n",
            "\n",
            "      thalach     exang   oldpeak     slope        ca      thal    target  \n",
            "0    0.018826 -0.698344  1.084022 -2.271182 -0.714911 -2.147955  0.917313  \n",
            "1    1.636979 -0.698344  2.118926 -2.271182 -0.714911 -0.513994  0.917313  \n",
            "2    0.980971 -0.698344  0.307844  0.979514 -0.714911 -0.513994  0.917313  \n",
            "3    1.243374 -0.698344 -0.209608  0.979514 -0.714911 -0.513994  0.917313  \n",
            "4    0.587366  1.431958 -0.382092  0.979514 -0.714911 -0.513994  0.917313  \n",
            "..        ...       ...       ...       ...       ...       ...       ...  \n",
            "298 -1.161988  1.431958 -0.727060 -0.645834 -0.714911  1.119967 -1.090140  \n",
            "299 -0.768384 -0.698344  0.135360 -0.645834 -0.714911  1.119967 -1.090140  \n",
            "300 -0.374779 -0.698344  2.032684 -0.645834  1.274980  1.119967 -1.090140  \n",
            "301 -1.511859  1.431958  0.135360 -0.645834  0.280034  1.119967 -1.090140  \n",
            "302  1.068439 -0.698344 -0.899544 -0.645834  0.280034 -0.513994 -1.090140  \n",
            "\n",
            "[302 rows x 14 columns]\n"
          ]
        }
      ]
    },
    {
      "cell_type": "markdown",
      "source": [
        "# detecting if there is outliers"
      ],
      "metadata": {
        "id": "gUUp7Xjhx1jg"
      }
    },
    {
      "cell_type": "code",
      "source": [
        "\n",
        "import matplotlib.pyplot as plt\n",
        "import seaborn as sns\n",
        "\n"
      ],
      "metadata": {
        "id": "r_z4Q_-6iAsk"
      },
      "execution_count": 204,
      "outputs": []
    },
    {
      "cell_type": "code",
      "source": [
        "\n",
        "features = data.columns[:-1]"
      ],
      "metadata": {
        "id": "ng04WVliiG6l"
      },
      "execution_count": 205,
      "outputs": []
    },
    {
      "cell_type": "code",
      "source": [
        "\n",
        "\n",
        "plt.figure(figsize=(15, 10))\n",
        "sns.boxplot(data=data[features])\n",
        "plt.title('Box Plot of Each Feature')\n",
        "plt.xticks(rotation=90)\n",
        "plt.xlabel('Features')\n",
        "plt.ylabel('Values')\n",
        "plt.show()"
      ],
      "metadata": {
        "colab": {
          "base_uri": "https://localhost:8080/",
          "height": 788
        },
        "id": "Y--Znd77iFZx",
        "outputId": "19053f6c-38a0-484e-accd-9a2cb9efd990"
      },
      "execution_count": 206,
      "outputs": [
        {
          "output_type": "display_data",
          "data": {
            "text/plain": [
              "<Figure size 1500x1000 with 1 Axes>"
            ],
            "image/png": "[encoded data removed]"
          },
          "metadata": {}
        }
      ]
    },
    {
      "cell_type": "markdown",
      "source": [
        "# calculating and detecting nulls"
      ],
      "metadata": {
        "id": "WQ1gy76yx7yQ"
      }
    },
    {
      "cell_type": "code",
      "source": [
        "print(data.isnull().sum())\n",
        "\n"
      ],
      "metadata": {
        "colab": {
          "base_uri": "https://localhost:8080/"
        },
        "id": "7GI6cqYdWJVy",
        "outputId": "54538116-3882-46b2-f874-d27fea92fa67"
      },
      "execution_count": 207,
      "outputs": [
        {
          "output_type": "stream",
          "name": "stdout",
          "text": [
            "age         0\n",
            "sex         0\n",
            "cp          0\n",
            "trestbps    0\n",
            "chol        0\n",
            "fbs         0\n",
            "restecg     0\n",
            "thalach     0\n",
            "exang       0\n",
            "oldpeak     0\n",
            "slope       0\n",
            "ca          0\n",
            "thal        0\n",
            "target      0\n",
            "dtype: int64\n"
          ]
        }
      ]
    },
    {
      "cell_type": "code",
      "source": [
        "print(data.dtypes)"
      ],
      "metadata": {
        "colab": {
          "base_uri": "https://localhost:8080/"
        },
        "id": "jmTZv6kWWJS6",
        "outputId": "670eb300-2eaf-4020-89eb-51e003e959cb"
      },
      "execution_count": 208,
      "outputs": [
        {
          "output_type": "stream",
          "name": "stdout",
          "text": [
            "age         float64\n",
            "sex         float64\n",
            "cp          float64\n",
            "trestbps    float64\n",
            "chol        float64\n",
            "fbs         float64\n",
            "restecg     float64\n",
            "thalach     float64\n",
            "exang       float64\n",
            "oldpeak     float64\n",
            "slope       float64\n",
            "ca          float64\n",
            "thal        float64\n",
            "target      float64\n",
            "dtype: object\n"
          ]
        }
      ]
    },
    {
      "cell_type": "code",
      "source": [
        "from sklearn.preprocessing import StandardScaler\n"
      ],
      "metadata": {
        "id": "XaWwmpBCXFnw"
      },
      "execution_count": 209,
      "outputs": []
    },
    {
      "cell_type": "markdown",
      "source": [
        "# Identifying the categorical variables in the dataset"
      ],
      "metadata": {
        "id": "cq790n-mykDp"
      }
    },
    {
      "cell_type": "code",
      "source": [
        "\n",
        "categorical_vars = data.select_dtypes(include=['object']).columns\n",
        "\n",
        "\n"
      ],
      "metadata": {
        "id": "9m4FPX7mWJNQ"
      },
      "execution_count": 210,
      "outputs": []
    },
    {
      "cell_type": "markdown",
      "source": [
        "This code performs one-hot encoding for the categorical variables\n",
        "# that i identified in the previous step in the code. It first create dummy variables for each category in each categorical variable."
      ],
      "metadata": {
        "id": "4tVSczUSy4tk"
      }
    },
    {
      "cell_type": "code",
      "source": [
        "data = pd.get_dummies(data, columns=categorical_vars, drop_first=True)\n",
        "\n"
      ],
      "metadata": {
        "id": "DS_wpTKeWJJ7"
      },
      "execution_count": 211,
      "outputs": []
    },
    {
      "cell_type": "markdown",
      "source": [
        "# this  line perform normalization using a StandardScaler  and identify the column names of all numerical variables."
      ],
      "metadata": {
        "id": "SVmV48WnzblF"
      }
    },
    {
      "cell_type": "code",
      "source": [
        "scaler = StandardScaler()\n",
        "numerical_variables = data.select_dtypes(include=['int64', 'float64']).columns\n",
        "\n"
      ],
      "metadata": {
        "id": "5u6So_RIWJGx"
      },
      "execution_count": 212,
      "outputs": []
    },
    {
      "cell_type": "code",
      "source": [
        "data[numerical_variables] = scaler.fit_transform(data[numerical_variables])\n",
        "\n"
      ],
      "metadata": {
        "id": "cMPJSjpXWJEC"
      },
      "execution_count": 213,
      "outputs": []
    },
    {
      "cell_type": "code",
      "source": [
        "\n",
        "# here i defined the sigmoid function as the main function\n",
        "def sigmoid(z):\n",
        "    # then i calculated the sigmoid of z\n",
        "    return 1 / (1 + np.exp(-z))\n",
        "\n"
      ],
      "metadata": {
        "id": "TMFA6vRYR3BE"
      },
      "execution_count": 214,
      "outputs": []
    },
    {
      "cell_type": "code",
      "source": [
        "# here is the definintion of the cost function for the  logistic taking X,y,theta as paramters\n",
        "def compute_costfun_logist(X, y, theta):\n",
        "    # here i am defining the number of training examples as the lenght of y\n",
        "    m = len(y)\n",
        "    # h is hypothesis function that we will use using sigmoid\n",
        "    h = sigmoid(np.dot(X, theta))\n",
        "    # cost variable is calculating the cost for using logistic\n",
        "    cost = -(1/m) * (np.dot(y, np.log(h)) + np.dot((1 - y), np.log(1 - h)))\n",
        "    return cost\n",
        "\n"
      ],
      "metadata": {
        "id": "90c-DZRXR29m"
      },
      "execution_count": 215,
      "outputs": []
    },
    {
      "cell_type": "code",
      "source": [
        "\n",
        "# this function is the gradient descent function for logistic regression that will be taking x,theta,y,aplha,number of iterations\n",
        "def gradient_descent_forlogist(X, y, theta, alpha, num_iterations):\n",
        "    m = len(y)\n",
        "    # i am intializing a list to store the cost at each iteration\n",
        "    cost_hist = []\n",
        "   #this for loop will loop number of itrations to calculate h the gradient then lastly update the paramter against the gradient\n",
        "    for i in range(num_iterations):\n",
        "        h = sigmoid(np.dot(X, theta))\n",
        "        gradient = np.dot(X.T, (h - y)) / m\n",
        "        # to update the parameters (theta)\n",
        "        theta -= alpha * gradient\n",
        "        # calc and store the cost for the current iteration\n",
        "        cost = compute_costfun_logist(X, y, theta)\n",
        "        cost_hist.append(cost)\n",
        "\n",
        "    return theta, cost_hist\n"
      ],
      "metadata": {
        "id": "xynbmhnNR268"
      },
      "execution_count": 216,
      "outputs": []
    },
    {
      "cell_type": "code",
      "source": [
        "\n",
        "# Define prediction function\n",
        "def predict(X, theta):\n",
        "    #  the probabilities will be calculated using the sigmoid function\n",
        "    probabilities = sigmoid(np.dot(X, theta))\n",
        "    # then we convert the probabilities to binary outputs (0 or 1) based on threshold of 0.5 that we put\n",
        "    return (probabilities >= 0.5).astype(int)"
      ],
      "metadata": {
        "id": "Zo3jvw7PR23w"
      },
      "execution_count": 217,
      "outputs": []
    },
    {
      "cell_type": "code",
      "source": [
        "def augmention(X):\n",
        "    augm = np.ones((X.shape[0], 1))\n",
        "    return np.concatenate((augm, X), axis=1)\n"
      ],
      "metadata": {
        "id": "cXjyU6Jvk520"
      },
      "execution_count": 218,
      "outputs": []
    },
    {
      "cell_type": "code",
      "source": [
        "#split the data into features and target\n",
        "X = data.drop('target', axis=1)\n",
        "y = data['target']\n",
        "\n"
      ],
      "metadata": {
        "id": "97WYrcxWWJAr"
      },
      "execution_count": 219,
      "outputs": []
    },
    {
      "cell_type": "code",
      "source": [
        "#here we are splitting the data\n",
        "from sklearn.model_selection import train_test_split\n",
        "X_train, X_test, y_train, y_test = train_test_split(X, y, test_size=0.2, random_state=42)"
      ],
      "metadata": {
        "id": "MkgIHS9EWI-E"
      },
      "execution_count": 220,
      "outputs": []
    },
    {
      "cell_type": "code",
      "source": [
        "X_train = augmention(X_train)\n",
        "X_test = augmention(X_test)"
      ],
      "metadata": {
        "id": "LuzKZ_2WlU8H"
      },
      "execution_count": 221,
      "outputs": []
    },
    {
      "cell_type": "code",
      "source": [
        "theta = np.zeros(X_train.shape[1])\n"
      ],
      "metadata": {
        "id": "1qwD8z6nlmMM"
      },
      "execution_count": 222,
      "outputs": []
    },
    {
      "cell_type": "code",
      "source": [
        "\n",
        "alpha = 0.01\n",
        "num_iterations = 150000"
      ],
      "metadata": {
        "id": "CiNmYHQ2lkAz"
      },
      "execution_count": 223,
      "outputs": []
    },
    {
      "cell_type": "code",
      "source": [
        "theta, cost_history = gradient_descent_forlogist(X_train, y_train, theta, alpha, num_iterations)\n"
      ],
      "metadata": {
        "colab": {
          "base_uri": "https://localhost:8080/"
        },
        "id": "eMgKpLJxlqfJ",
        "outputId": "017b747f-ab53-4555-c6f3-ef2fc79992d5"
      },
      "execution_count": 224,
      "outputs": [
        {
          "output_type": "stream",
          "name": "stderr",
          "text": [
            "<ipython-input-215-1bf2add4da71>:8: RuntimeWarning: divide by zero encountered in log\n",
            "  cost = -(1/m) * (np.dot(y, np.log(h)) + np.dot((1 - y), np.log(1 - h)))\n",
            "<ipython-input-214-ed74c5b6d68f>:4: RuntimeWarning: overflow encountered in exp\n",
            "  return 1 / (1 + np.exp(-z))\n",
            "<ipython-input-215-1bf2add4da71>:8: RuntimeWarning: invalid value encountered in scalar add\n",
            "  cost = -(1/m) * (np.dot(y, np.log(h)) + np.dot((1 - y), np.log(1 - h)))\n"
          ]
        }
      ]
    },
    {
      "cell_type": "code",
      "source": [
        "y_pred = predict(X_test, theta)\n",
        "\n"
      ],
      "metadata": {
        "colab": {
          "base_uri": "https://localhost:8080/"
        },
        "id": "3B6-jk0Gl7IU",
        "outputId": "ee563b85-da94-42d9-a5cd-a21890f4ad26"
      },
      "execution_count": 225,
      "outputs": [
        {
          "output_type": "stream",
          "name": "stderr",
          "text": [
            "<ipython-input-214-ed74c5b6d68f>:4: RuntimeWarning: overflow encountered in exp\n",
            "  return 1 / (1 + np.exp(-z))\n"
          ]
        }
      ]
    },
    {
      "cell_type": "code",
      "source": [
        "#when i tried to calcuate the accuracy an error message showed  that there is a mismatch between the data types of the target variable (y_test) and the predicted values (y_pred).\n",
        "# thats because  y_test  contains continuous values while y_pred contains binary values.\n",
        "#so i tried to make them all binary so its the same type"
      ],
      "metadata": {
        "id": "X1WwgOHWwzM_"
      },
      "execution_count": 226,
      "outputs": []
    },
    {
      "cell_type": "code",
      "source": [
        "y_pred_binary = (y_pred > 0.5).astype(int)\n"
      ],
      "metadata": {
        "id": "c74tV-Y5raAo"
      },
      "execution_count": 227,
      "outputs": []
    },
    {
      "cell_type": "code",
      "source": [
        "print(type(y_pred))"
      ],
      "metadata": {
        "colab": {
          "base_uri": "https://localhost:8080/"
        },
        "id": "XK4Dn0GXrdZ0",
        "outputId": "e6532923-7aac-4faa-f74f-9c4df98c7fbc"
      },
      "execution_count": 228,
      "outputs": [
        {
          "output_type": "stream",
          "name": "stdout",
          "text": [
            "<class 'numpy.ndarray'>\n"
          ]
        }
      ]
    },
    {
      "cell_type": "code",
      "source": [
        "print(type(y_pred_binary))"
      ],
      "metadata": {
        "colab": {
          "base_uri": "https://localhost:8080/"
        },
        "id": "t20QHOmzpwiY",
        "outputId": "fe2bfded-b68b-471f-99fc-bc0b2bd9f672"
      },
      "execution_count": 229,
      "outputs": [
        {
          "output_type": "stream",
          "name": "stdout",
          "text": [
            "<class 'numpy.ndarray'>\n"
          ]
        }
      ]
    },
    {
      "cell_type": "code",
      "source": [
        "y_test_binary = (y_test > 0.5).astype(int)"
      ],
      "metadata": {
        "id": "w5qxr6Orry0M"
      },
      "execution_count": 230,
      "outputs": []
    },
    {
      "cell_type": "code",
      "source": [
        "from sklearn.metrics import accuracy_score, precision_score, recall_score, f1_score"
      ],
      "metadata": {
        "id": "w9PUqI9RmF2u"
      },
      "execution_count": 231,
      "outputs": []
    },
    {
      "cell_type": "markdown",
      "source": [
        "# evalutaing the results using accuracy score, precision score, recall score, f1score"
      ],
      "metadata": {
        "id": "EEHMCgwlz5IO"
      }
    },
    {
      "cell_type": "code",
      "source": [
        "accuracy = accuracy_score(y_test_binary, y_pred_binary)\n",
        "precision = precision_score(y_test_binary, y_pred_binary)\n",
        "recall = recall_score(y_test_binary, y_pred_binary)\n",
        "f1 = f1_score(y_test_binary, y_pred_binary)\n",
        "\n",
        "print(f'Accuracy: {accuracy:.4f}')\n",
        "print(f'Precision: {precision:.4f}')\n",
        "print(f'Recall: {recall:.4f}')\n",
        "print(f'F1 Score: {f1:.4f}')\n"
      ],
      "metadata": {
        "colab": {
          "base_uri": "https://localhost:8080/"
        },
        "id": "HmjwLwa6l-FX",
        "outputId": "dd0fc220-b5c1-4713-8479-bf981e2e1639"
      },
      "execution_count": 232,
      "outputs": [
        {
          "output_type": "stream",
          "name": "stdout",
          "text": [
            "Accuracy: 0.7705\n",
            "Precision: 0.9500\n",
            "Recall: 0.5938\n",
            "F1 Score: 0.7308\n"
          ]
        }
      ]
    },
    {
      "cell_type": "markdown",
      "source": [
        "# summary"
      ],
      "metadata": {
        "id": "3ZbOn6uH1nQa"
      }
    },
    {
      "cell_type": "code",
      "source": [
        "#to me the model implementation from scratch was not easy and required me to pay careful attention to detail, especially the numerical stability and convergence issues.\n",
        "#choosing  hyperparameters such as the learning rate and number of iterations was sooo important\n",
        "#for getting satisfactory model performrnce after alot of trials\n",
        "#the data Cleaning process was sp effictive as the  data was the most important factor\n",
        "#cuz all the model is depending on the data so quality by handling missing values, outliers, and\n",
        "#data type inconsistencies somehow was a challenge during the preprocessing stage.\n",
        "#but i normalized the dataset and converted the data so the model has a stable data to work with.\n",
        "#finally the performace metrices was a powerful indicator for me to understand the full picture and evalute the model.\n"
      ],
      "metadata": {
        "id": "8TzvNizp1pJJ"
      },
      "execution_count": 196,
      "outputs": []
    }
  ]
}